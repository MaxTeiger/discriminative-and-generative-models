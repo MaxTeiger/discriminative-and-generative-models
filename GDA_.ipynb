{
  "nbformat": 4,
  "nbformat_minor": 0,
  "metadata": {
    "colab": {
      "name": "GDA_.ipynb",
      "provenance": [],
      "collapsed_sections": [
        "J-UZ55_WR-xH",
        "qrI7jDb9U9aD",
        "LDV7iBOFo0NW"
      ]
    },
    "kernelspec": {
      "name": "python3",
      "display_name": "Python 3"
    }
  },
  "cells": [
    {
      "cell_type": "markdown",
      "metadata": {
        "id": "JbGF-kgxR370",
        "colab_type": "text"
      },
      "source": [
        "# Gaussian Discriminative Analysis (GDA)\n",
        "\n",
        "##### *October 8, 2019 Pr: Jae Yun JUN KIM*"
      ]
    },
    {
      "cell_type": "code",
      "metadata": {
        "id": "l8rhWu40LouB",
        "colab_type": "code",
        "colab": {}
      },
      "source": [
        "# import Librairies\n",
        "import pandas as pd\n",
        "import numpy as np\n",
        "import random as rd \n",
        "import matplotlib.pyplot as plt"
      ],
      "execution_count": 0,
      "outputs": []
    },
    {
      "cell_type": "markdown",
      "metadata": {
        "id": "hbUM0Q4sQphd",
        "colab_type": "text"
      },
      "source": [
        "### Tasks"
      ]
    },
    {
      "cell_type": "markdown",
      "metadata": {
        "id": "J-UZ55_WR-xH",
        "colab_type": "text"
      },
      "source": [
        "#### 1. Download the data.csv file which contains one hundred of examples with two features and the corresponding label."
      ]
    },
    {
      "cell_type": "code",
      "metadata": {
        "id": "uHCoGeZgLq5P",
        "colab_type": "code",
        "outputId": "2de7ddd6-6ee8-4066-d284-fe539c68d9c3",
        "colab": {
          "base_uri": "https://localhost:8080/",
          "height": 200
        }
      },
      "source": [
        "# URL of the csv file containing the data on GitHub\n",
        "url = 'https://raw.githubusercontent.com/MaxTeiger/discriminative-and-generative-models/master/data.csv'\n",
        "\n",
        "# Parsing the file into a Pandas DataFrame\n",
        "datas = pd.read_csv(url, names=['x1', 'x2', 'y'])\n",
        "\n",
        "datas.head()"
      ],
      "execution_count": 0,
      "outputs": [
        {
          "output_type": "execute_result",
          "data": {
            "text/html": [
              "<div>\n",
              "<style scoped>\n",
              "    .dataframe tbody tr th:only-of-type {\n",
              "        vertical-align: middle;\n",
              "    }\n",
              "\n",
              "    .dataframe tbody tr th {\n",
              "        vertical-align: top;\n",
              "    }\n",
              "\n",
              "    .dataframe thead th {\n",
              "        text-align: right;\n",
              "    }\n",
              "</style>\n",
              "<table border=\"1\" class=\"dataframe\">\n",
              "  <thead>\n",
              "    <tr style=\"text-align: right;\">\n",
              "      <th></th>\n",
              "      <th>x1</th>\n",
              "      <th>x2</th>\n",
              "      <th>y</th>\n",
              "    </tr>\n",
              "  </thead>\n",
              "  <tbody>\n",
              "    <tr>\n",
              "      <th>0</th>\n",
              "      <td>5.1</td>\n",
              "      <td>3.5</td>\n",
              "      <td>0</td>\n",
              "    </tr>\n",
              "    <tr>\n",
              "      <th>1</th>\n",
              "      <td>4.9</td>\n",
              "      <td>3.0</td>\n",
              "      <td>0</td>\n",
              "    </tr>\n",
              "    <tr>\n",
              "      <th>2</th>\n",
              "      <td>4.7</td>\n",
              "      <td>3.2</td>\n",
              "      <td>0</td>\n",
              "    </tr>\n",
              "    <tr>\n",
              "      <th>3</th>\n",
              "      <td>4.6</td>\n",
              "      <td>3.1</td>\n",
              "      <td>0</td>\n",
              "    </tr>\n",
              "    <tr>\n",
              "      <th>4</th>\n",
              "      <td>5.0</td>\n",
              "      <td>3.6</td>\n",
              "      <td>0</td>\n",
              "    </tr>\n",
              "  </tbody>\n",
              "</table>\n",
              "</div>"
            ],
            "text/plain": [
              "    x1   x2  y\n",
              "0  5.1  3.5  0\n",
              "1  4.9  3.0  0\n",
              "2  4.7  3.2  0\n",
              "3  4.6  3.1  0\n",
              "4  5.0  3.6  0"
            ]
          },
          "metadata": {
            "tags": []
          },
          "execution_count": 5
        }
      ]
    },
    {
      "cell_type": "markdown",
      "metadata": {
        "id": "qrI7jDb9U9aD",
        "colab_type": "text"
      },
      "source": [
        "#### 2. Read the data file, considering 80% of data as the training set and the rest for the test set."
      ]
    },
    {
      "cell_type": "code",
      "metadata": {
        "id": "MKU6Qzq0VHnt",
        "colab_type": "code",
        "colab": {}
      },
      "source": [
        "def splitTrainingTest(initialDF, train_size = 0.8):\n",
        "  \n",
        "    #Initialization\n",
        "    trainIndex, testIndex = list(), list()\n",
        "    \n",
        "    # We iterate over the DataFrame and put 80% of the inputs \n",
        "    # in the training set and the rest in the test set\n",
        "    for i in range(initialDF.shape[0]):\n",
        "        if np.random.uniform(0, 1) < train_size:\n",
        "            trainIndex += [i]\n",
        "        else:\n",
        "            testIndex += [i]\n",
        "    \n",
        "    # Locate all lines in the initial dataframe at indexes \n",
        "    # specified for each training and testing set\n",
        "    trainData = initialDF.loc[trainIndex]\n",
        "    testData = initialDF.loc[testIndex]\n",
        "    \n",
        "    # Reset index for both sets\n",
        "    trainData.reset_index(inplace = True)\n",
        "    trainData.drop(['index'], axis = 1, inplace = True)\n",
        "    trainData.head()\n",
        "    testData.reset_index(inplace = True)\n",
        "    testData.drop(['index'], axis = 1, inplace = True)\n",
        "    testData.head()\n",
        "    \n",
        "    return trainData, testData"
      ],
      "execution_count": 0,
      "outputs": []
    },
    {
      "cell_type": "code",
      "metadata": {
        "id": "TdoGtk5KVvkT",
        "colab_type": "code",
        "colab": {}
      },
      "source": [
        "# Splitting datas into training and testing set\n",
        "train_datas, test_datas = splitTrainingTest(datas)"
      ],
      "execution_count": 0,
      "outputs": []
    },
    {
      "cell_type": "code",
      "metadata": {
        "id": "DMPbR5hfYbiL",
        "colab_type": "code",
        "outputId": "7b3cf191-3a54-441d-c044-a4c563a38fdc",
        "colab": {
          "base_uri": "https://localhost:8080/",
          "height": 212
        }
      },
      "source": [
        "print(\"Number of rows in training set:\", train_datas.shape[0])\n",
        "print(\"Number of rows in test set:\", test_datas.shape[0])\n",
        "print('Number of total rows: ', train_datas.shape[0]+test_datas.shape[0], \"\\n\")\n",
        "print(train_datas['y'].value_counts(), '\\n')\n",
        "print(test_datas['y'].value_counts())"
      ],
      "execution_count": 0,
      "outputs": [
        {
          "output_type": "stream",
          "text": [
            "Number of rows in training set: 78\n",
            "Number of rows in test set: 22\n",
            "Number of total rows:  100 \n",
            "\n",
            "1    41\n",
            "0    37\n",
            "Name: y, dtype: int64 \n",
            "\n",
            "0    13\n",
            "1     9\n",
            "Name: y, dtype: int64\n"
          ],
          "name": "stdout"
        }
      ]
    },
    {
      "cell_type": "markdown",
      "metadata": {
        "id": "6PPIHjYgW0xD",
        "colab_type": "text"
      },
      "source": [
        "#### 3. Solve the classification problem using both methods that you learned in class (the training part):\n"
      ]
    },
    {
      "cell_type": "markdown",
      "metadata": {
        "id": "jfJ63RNLXGqR",
        "colab_type": "text"
      },
      "source": [
        "##### Logistic regression (an example of discriminative models)"
      ]
    },
    {
      "cell_type": "markdown",
      "metadata": {
        "id": "LDV7iBOFo0NW",
        "colab_type": "text"
      },
      "source": [
        "###### Partie cours"
      ]
    },
    {
      "cell_type": "markdown",
      "metadata": {
        "id": "6qh6ZyZ-h4z-",
        "colab_type": "text"
      },
      "source": [
        "Le but est de trouver le y *(output)* qui maximise la probabilité : \n",
        "\n",
        "> $P( Y = y | X )$\n",
        "\n",
        "Pour ce problème on utilise généralement la fonction sigmoide :\n",
        "\n",
        "![Fonction Sigmoide](http://saedsayad.com/images/ANN_Sigmoid.png)\n",
        "\n",
        "On dit donc que : \n",
        "\n",
        "> $P( Y = 1 | X ; Ɵ) =$ $h_Ɵ$( $X^{(i)}$ ) \n",
        "\n",
        "et que : \n",
        "\n",
        "> $P(Y=0|X;Ɵ)=1-h_Ɵ(x^{(i)})$\n",
        "\n",
        "On peut en déduire facilement que : \n",
        "\n",
        "> $P ( Y = 1 | X ; Ɵ) = h_Ɵ( X^{(i)} )^{(y)}( 1 -h_Ɵ( X^y ))^{(1 - y)}$ "
      ]
    },
    {
      "cell_type": "markdown",
      "metadata": {
        "id": "gSqB4O4Oo9yO",
        "colab_type": "text"
      },
      "source": [
        "---\n",
        "\n",
        "**Performance Measures : Conditional Likelihood**\n",
        "\n",
        "We use conditional probability,  so we use conditional likelihood $L(Ɵ)$\n",
        "\n",
        "The conditional likelihood is defined as : \n",
        "\n",
        "> $ L(Ɵ)=P( Y | X ; Ɵ )$\n",
        "\n",
        "But as we consider the distribution to be identically and independently distributed, we can deduce : \n",
        "> $ L(Ɵ)=$$\\prod_{i=1}^{I} P(Y^{(i)} | X^{(i)};Ɵ)$\n",
        "\n",
        "> $ L(Ɵ)=$$\\prod_{i=1}^{I} [ h_Ɵ$( $X^{(i)}$ $)^{(y^{(i)})}$ \n",
        "> $( 1 - h_Ɵ( X^{(i)})^{(1 - y^{(i)})}] $\n",
        "\n",
        "From the previous calculation.\n",
        "\n",
        "But this is not good, we are indeed multiplying probabilities many times, the likelihood will tend towards $0$."
      ]
    },
    {
      "cell_type": "markdown",
      "metadata": {
        "id": "95wnsm_bBf8j",
        "colab_type": "text"
      },
      "source": [
        "The solution is to use the conditional log-likelihood : \n",
        "\n",
        "$l(\\theta) = \\log(L(\\theta)) = \\sum_{i=0}^I y^{(i)}h_{\\theta}(x^{(i)})+(1-y^{(i)})(1-h_{\\theta}(x^{(i)})$\n",
        "\n",
        "\n",
        "---\n",
        "\n",
        "**The goal is finding $\\theta$ for which $l(\\theta)$ is higher**\n",
        "\n",
        "To serve this purpose, we use the gradient ascent : \n",
        "\n",
        "\n",
        "$n = {1, ... , N}$ $\\leftarrow$ Nb of features\n",
        "\n",
        "\n",
        "$\\theta_n^{(itera)} \\leftarrow \\theta_n^{(itera-1)} \\color{red}{+} \\alpha . \\frac{dl}{d\\theta_n} $ (Scalar)\n",
        "\n",
        "$\\theta^{(itera)} \\leftarrow \\theta^{(itera-1)} \\color{red}{+} \\alpha .  ▽_{\\theta}l(\\theta)$ (Vector)\n",
        "\n",
        "\n",
        "\n",
        "We need to compute :\n",
        "\n",
        "$\\frac{dl}{d\\theta_n} = \\sum_{i=0}^I (y^{(i)} - h_{\\theta}(x^{(i)}))x_n^{(i)}$\n",
        "\n",
        "Indeed, we have : \n",
        "\n",
        "> $\\theta_n^{(itera)} \\leftarrow \\theta_n^{(itera-1)} \\color{red}{+} \\alpha . \\sum_{i=0}^I (y^{(i)} - h_{\\theta}(x^{(i)})x_n^{(i)} $ \n",
        "\n"
      ]
    },
    {
      "cell_type": "markdown",
      "metadata": {
        "id": "eVSrwV0WWJVr",
        "colab_type": "text"
      },
      "source": [
        "###### Partie code"
      ]
    },
    {
      "cell_type": "code",
      "metadata": {
        "id": "iO3xi2ALXFla",
        "colab_type": "code",
        "colab": {}
      },
      "source": [
        "class DiscriminativeClassifier():\n",
        "    \n",
        "    def __init__(self):\n",
        "        # Our two weights initialized randomly between -1 and 1\n",
        "        self.theta = None\n",
        "        \n",
        "        self.dl_theta = None\n",
        "        \n",
        "        # Learning rates\n",
        "        self.alpha = 0.005\n",
        "        \n",
        "        # Number of features\n",
        "        self.N = 0\n",
        "        \n",
        "        # Number of training examples\n",
        "        self.I = 0\n",
        "        \n",
        "        # Error\n",
        "        self.err = []\n",
        "        self.histdl = []\n",
        "        self.histTheta = []\n",
        "\n",
        "        self.y_hat = []\n",
        "        \n",
        "    \n",
        "    def sigmoid_function(self, X):\n",
        "        \"\"\"Takes an X[i] as an input and compute the sigmoid function with it, \n",
        "        gives the probability that Y=1 depending on X[i], computed with theta \n",
        "        parameters\n",
        "        \"\"\"\n",
        "        \n",
        "        h_theta = 1 / ( 1+np.exp ( np.dot ( -self.theta, X ) ) )\n",
        "        \n",
        "        return h_theta\n",
        "      \n",
        "    def c_log_likelihood(self, X, y):\n",
        "      \"\"\"\n",
        "      Compute the log likelihood given X and y \n",
        "      \"\"\"\n",
        "      l_theta = 0\n",
        "      for i in range(self.I):\n",
        "        l_theta += y[i]*self.sigmoid_function(X[i]) + (1 - y[i])*(1 - self.sigmoid_function(X[i]))\n",
        "        \n",
        "      return l_theta\n",
        "      \n",
        "    \n",
        "    def conditional_propability(self, X):\n",
        "        return None\n",
        "\n",
        "    def plot_hist(self):\n",
        "        plt.plot(np.arange(len(self.err)), self.err)\n",
        "        plt.title('Likelihood')\n",
        "        plt.show()\n",
        "        \n",
        "        plt.plot(np.arange(len(self.histTheta)), self.histTheta, label='Theta')\n",
        "        plt.legend()\n",
        "        plt.title('Theta')\n",
        "        plt.show()\n",
        "        \n",
        "        plt.plot(np.arange(len(self.histdl)), self.histdl, label='dL/dTheta')\n",
        "        plt.legend()\n",
        "        plt.title('dL')\n",
        "        plt.show()\n",
        "    \n",
        "    def c_dl_theta(self, X, y):\n",
        "        \"\"\"\n",
        "        Compute the derivative of theta given X and y \n",
        "        \"\"\"\n",
        "        self.dl_theta = np.array([0.]*self.N) \n",
        "        \n",
        "        for n in range(self.N):\n",
        "          for i in range(self.I):\n",
        "            self.dl_theta[n] += (y[i]-self.sigmoid_function(X[i]))*X[i,n]\n",
        "            \n",
        "#         print('DL/DTHETA : ', self.dl_theta)\n",
        "    \n",
        "    def fit(self, X, y, nb_epoch=50):\n",
        "        \n",
        "        # define training examples and number of features\n",
        "        self.N = X.shape[1] # Here 2 features \n",
        "        self.I = X.shape[0] # Here approx. 80 training examples\n",
        "        \n",
        "        # define an N-array for Theta and dl theta \n",
        "        self.dl_theta = np.array([0.]*self.N) \n",
        "        self.theta = np.array([np.random.normal(1.0, 0.5)] * self.N)\n",
        "        \n",
        "        print(\"Initial Theta : \", self.theta, \"\\nInitial dl/dTheta : \", self.dl_theta)\n",
        "        print(\"Number of features : \", self.N, \"\\nNumber of Tr. Examples : \", self.I)\n",
        "        \n",
        "        \n",
        "        for e in range(nb_epoch):\n",
        "          \n",
        "#           print('loop ', e )\n",
        "#           print(\"Theta : \", self.theta, \"\\tdl : \", self.dl_theta)\n",
        "          \n",
        "          #  Keep trace of the parameters\n",
        "          self.err.append(self.c_log_likelihood(X,y))\n",
        "          self.histdl.append(self.dl_theta)\n",
        "          self.histTheta.append([self.theta[0], self.theta[1]])\n",
        "          \n",
        "          # calculate dl/dtheta\n",
        "          self.c_dl_theta(X, y)                 \n",
        "          \n",
        "          # actualize theta\n",
        "          self.theta+=self.alpha*self.dl_theta\n",
        "          \n",
        "          \n",
        "          \n",
        "        self.plot_hist()\n",
        "        \n",
        "                                                                    \n",
        "        \n",
        "    def predict_one(self, X):\n",
        "      if self.sigmoid_function(X) > 0.5:\n",
        "        return 1\n",
        "      else: \n",
        "        return 0\n",
        "    \n",
        "    def predict(self, X, y):\n",
        "      \n",
        "      self.y_hat = []\n",
        "\n",
        "      # For each test example\n",
        "      print(\"|\\tx1\\t|\\tx2\\t|\\ty\\t|\\ty_hat\\t|\\n\" +\\\n",
        "      \"-\"*65)\n",
        "      for i in range(len(X)):\n",
        "        print(\"|\\t\"+str(X[i,0])+\"\\t|\\t\"+str(X[i,1])+\"\\t|\\t\"+str(y[i])+\"\\t\" \\\n",
        "             \"|\\t\"+str(self.predict_one(X[i]))+\"\\t|\")\n",
        "        print(\"-\"*65)\n",
        "\n",
        "        self.y_hat.append(self.predict_one(X[i]))\n",
        "\n",
        "    def confusion_matrix(self, y):\n",
        "\n",
        "        true_pos, false_pos, true_neg, false_neg = 0, 0, 0, 0\n",
        "\n",
        "        for i  in range(len(y)):\n",
        "          if self.y_hat[i] == 1 and y[i]==1:\n",
        "            true_pos+=1\n",
        "          elif self.y_hat[i] == 1 and y[i]==0:\n",
        "            false_pos +=1\n",
        "          elif self.y_hat[i] == 0 and y[i] ==0:\n",
        "            true_neg+=1\n",
        "          elif self.y_hat[i] == 0 and y[i] == 1:\n",
        "            false_neg+=1\n",
        "        \n",
        "        print(\"TP: {}, FP: {}, TN: {}, FN: {}\".format(true_pos, false_pos, true_neg, false_neg))\n",
        "        \n",
        "     \n",
        "        \n",
        "     \n",
        "     \n"
      ],
      "execution_count": 0,
      "outputs": []
    },
    {
      "cell_type": "code",
      "metadata": {
        "id": "f2uSZ-0LXYFB",
        "colab_type": "code",
        "outputId": "9cef2414-9cfd-4a97-bf18-c24b05f2cf8e",
        "colab": {
          "base_uri": "https://localhost:8080/",
          "height": 880
        }
      },
      "source": [
        "test = DiscriminativeClassifier()\n",
        "x_train, y_train  = train_datas.drop(columns='y').values, train_datas['y'].values\n",
        "test.fit(x_train, y_train, nb_epoch=1000)"
      ],
      "execution_count": 0,
      "outputs": [
        {
          "output_type": "stream",
          "text": [
            "Initial Theta :  [0.87672442 0.87672442] \n",
            "Initial dl/dTheta :  [0. 0.]\n",
            "Number of features :  2 \n",
            "Number of Tr. Examples :  78\n"
          ],
          "name": "stdout"
        },
        {
          "output_type": "display_data",
          "data": {
            "image/png": "[encoded data removed]",
            "text/plain": [
              "<Figure size 432x288 with 1 Axes>"
            ]
          },
          "metadata": {
            "tags": []
          }
        },
        {
          "output_type": "display_data",
          "data": {
            "image/png": "[encoded data removed]",
            "text/plain": [
              "<Figure size 432x288 with 1 Axes>"
            ]
          },
          "metadata": {
            "tags": []
          }
        },
        {
          "output_type": "display_data",
          "data": {
            "image/png": "[encoded data removed]",
            "text/plain": [
              "<Figure size 432x288 with 1 Axes>"
            ]
          },
          "metadata": {
            "tags": []
          }
        }
      ]
    },
    {
      "cell_type": "code",
      "metadata": {
        "id": "NrLYplqbXYMK",
        "colab_type": "code",
        "outputId": "8cbb26e8-30d0-4993-87bb-9eb75d4b1ace",
        "colab": {
          "base_uri": "https://localhost:8080/",
          "height": 835
        }
      },
      "source": [
        "x_test, y_test  = test_datas.drop(columns='y').values, test_datas['y'].values\n",
        "test.predict(x_test, y_test)"
      ],
      "execution_count": 0,
      "outputs": [
        {
          "output_type": "stream",
          "text": [
            "|\tx1\t|\tx2\t|\ty\t|\ty_hat\t|\n",
            "-----------------------------------------------------------------\n",
            "|\t4.7\t|\t3.2\t|\t0\t|\t0\t|\n",
            "-----------------------------------------------------------------\n",
            "|\t5.0\t|\t3.4\t|\t0\t|\t0\t|\n",
            "-----------------------------------------------------------------\n",
            "|\t5.1\t|\t3.8\t|\t0\t|\t0\t|\n",
            "-----------------------------------------------------------------\n",
            "|\t5.4\t|\t3.4\t|\t0\t|\t0\t|\n",
            "-----------------------------------------------------------------\n",
            "|\t5.2\t|\t3.5\t|\t0\t|\t0\t|\n",
            "-----------------------------------------------------------------\n",
            "|\t4.7\t|\t3.2\t|\t0\t|\t0\t|\n",
            "-----------------------------------------------------------------\n",
            "|\t4.8\t|\t3.1\t|\t0\t|\t0\t|\n",
            "-----------------------------------------------------------------\n",
            "|\t5.2\t|\t4.1\t|\t0\t|\t0\t|\n",
            "-----------------------------------------------------------------\n",
            "|\t5.5\t|\t4.2\t|\t0\t|\t0\t|\n",
            "-----------------------------------------------------------------\n",
            "|\t5.5\t|\t3.5\t|\t0\t|\t0\t|\n",
            "-----------------------------------------------------------------\n",
            "|\t4.4\t|\t3.0\t|\t0\t|\t0\t|\n",
            "-----------------------------------------------------------------\n",
            "|\t4.8\t|\t3.0\t|\t0\t|\t0\t|\n",
            "-----------------------------------------------------------------\n",
            "|\t4.6\t|\t3.2\t|\t0\t|\t0\t|\n",
            "-----------------------------------------------------------------\n",
            "|\t5.2\t|\t2.7\t|\t1\t|\t1\t|\n",
            "-----------------------------------------------------------------\n",
            "|\t5.8\t|\t2.7\t|\t1\t|\t1\t|\n",
            "-----------------------------------------------------------------\n",
            "|\t6.2\t|\t2.2\t|\t1\t|\t1\t|\n",
            "-----------------------------------------------------------------\n",
            "|\t5.9\t|\t3.2\t|\t1\t|\t1\t|\n",
            "-----------------------------------------------------------------\n",
            "|\t6.4\t|\t2.9\t|\t1\t|\t1\t|\n",
            "-----------------------------------------------------------------\n",
            "|\t5.7\t|\t2.6\t|\t1\t|\t1\t|\n",
            "-----------------------------------------------------------------\n",
            "|\t5.5\t|\t2.4\t|\t1\t|\t1\t|\n",
            "-----------------------------------------------------------------\n",
            "|\t5.8\t|\t2.7\t|\t1\t|\t1\t|\n",
            "-----------------------------------------------------------------\n",
            "|\t6.2\t|\t2.9\t|\t1\t|\t1\t|\n",
            "-----------------------------------------------------------------\n"
          ],
          "name": "stdout"
        }
      ]
    },
    {
      "cell_type": "code",
      "metadata": {
        "id": "HO4Rswx0EMNI",
        "colab_type": "code",
        "outputId": "d086d4ac-5788-4f27-8130-f2c87fc87893",
        "colab": {
          "base_uri": "https://localhost:8080/",
          "height": 35
        }
      },
      "source": [
        "test.confusion_matrix(y_test)"
      ],
      "execution_count": 0,
      "outputs": [
        {
          "output_type": "stream",
          "text": [
            "TP: 9, FP: 0, TN: 13, FN: 0\n"
          ],
          "name": "stdout"
        }
      ]
    },
    {
      "cell_type": "markdown",
      "metadata": {
        "id": "e5M9m6jMXSae",
        "colab_type": "text"
      },
      "source": [
        "##### Gaussian Discriminant Analysis (an example of generative models)"
      ]
    },
    {
      "cell_type": "markdown",
      "metadata": {
        "id": "ZX0wtHADMrg4",
        "colab_type": "text"
      },
      "source": [
        "###### Partie Cours"
      ]
    },
    {
      "cell_type": "markdown",
      "metadata": {
        "id": "-hWHUlKhMwfj",
        "colab_type": "text"
      },
      "source": [
        "The objective we have is to find :\n",
        "\n",
        "> $argmax_y P(X|Y)P(Y)$\n",
        "\n",
        "We supposed that Y is following Bernouilli rule : \n",
        "\n",
        "> $P(Y;\\phi) = \\phi^y \\times(1-\\phi)^{(1-y)}$ where $P(Y = 1; \\phi)\\ne0$\n",
        "     \n",
        "       \n",
        "$X|Y=0$ suit une loi normale de paramètres $N(\\mu_0, \\epsilon)$\n",
        "\n",
        "$X|Y=1$ suit une loi normale de paramètres $N(\\mu_1, \\epsilon)$\n",
        "\n",
        "By definition, we assume that :\n",
        "\n",
        "$P(X|Y=0) = \\frac{1}{(2\\pi)^{\\frac{N}{2}}(det(\\epsilon))^{\\frac{1}{2}}}.exp[-(X-\\mu_0)^{T}\\epsilon^{-1}(X-\\mu_0)]$\n",
        "\n",
        "$P(X|Y=1) = \\frac{1}{(2\\pi)^{\\frac{N}{2}}(det(\\epsilon))^{\\frac{1}{2}}}.exp[-(X-\\mu_1)^{T}\\epsilon^{-1}(X-\\mu_1)]$\n",
        "\n",
        "----\n",
        "\n",
        "Here we use joint probabilities, so we have to compute the joint log-likelihood : \n",
        "\n",
        "> $l(\\theta)=logP(X, Y; \\theta)$\n",
        ">\n",
        "> $l(\\theta)=log\\prod_{i=1}^I P(X^{(i)}|Y^{(i)};\\theta)P(Y^{(i)})  $ \n",
        "\n",
        "avec $\\theta = (\\phi, \\mu_0, \\mu_1, \\epsilon)$\n",
        "\n",
        "With the Maximum Likelihood Estimation (MLE), we can compute : \n",
        "\n",
        "${\\mu_0}_{MLE} = \\frac{\\sum_{i=1}^I || \\{y^{(i)} =0\\}x^{(i)}}{\\sum_{i=1}^I || \\{y^{(i)}=0\\}}$\n",
        "\n",
        "\n",
        "${\\mu_1}_{MLE} = \\frac{\\sum_{i=1}^I || \\{y^{(i)} =1\\}x^{(i)}}{\\sum_{i=1}^I || \\{y^{(i)}=1\\}}$\n",
        "\n",
        "\n",
        "${\\phi}_{MLE} = \\frac{\\sum_{i=1}^I || \\{y^{(i)} =1\\}}{I}$\n",
        "\n",
        "$\\epsilon_{MLE} = \\frac{1}{I}\\sum_{i=1}^I (X^{(i)}-\\mu_{y^{(i)}})(X^{(i)}-\\mu_{y^{(i)}})^T$"
      ]
    },
    {
      "cell_type": "markdown",
      "metadata": {
        "id": "bjhIKDmKWYKc",
        "colab_type": "text"
      },
      "source": [
        "###### Partie code\n"
      ]
    },
    {
      "cell_type": "code",
      "metadata": {
        "id": "YWx6ysTsXXBH",
        "colab_type": "code",
        "colab": {}
      },
      "source": [
        "class GenerativeClassifier():\n",
        "    \n",
        "    def __init__(self):\n",
        "      \n",
        "      # Model parameters\n",
        "      self.mu_0 = None\n",
        "      self.mu_1 = None\n",
        "      self.phi = None\n",
        "      self.eps = None\n",
        "      \n",
        "      # Learning rates\n",
        "      self.alpha = 0.005\n",
        "        \n",
        "      # Number of features\n",
        "      self.N = 0\n",
        "        \n",
        "      # Number of training examples\n",
        "      self.I = 0\n",
        "\n",
        "      self.y_hat = []\n",
        "              \n",
        "    def c_log_likelihood(self, X, y):\n",
        "      \"\"\"\n",
        "      Compute the log likelihood given X and y \n",
        "      \"\"\"\n",
        "\n",
        "      return l_theta\n",
        "      \n",
        "    \n",
        "    def c_px_y0(self, X):\n",
        "        \"\"\" \n",
        "        \"\"\"\n",
        "        det_eps = np.linalg.det(self.eps)\n",
        "        pi = np.pi\n",
        "        X = np.matrix(X)\n",
        "        px_y0 = ( 1 / ( ((2*pi)**(self.N/2)) * det_eps**(1/2) ) ) \\\n",
        "              * np.exp( (-1/2)*( X-self.mu_0 ) * np.linalg.inv(self.eps) \\\n",
        "              * (X.T-self.mu_0) )  \n",
        "       \n",
        "        return px_y0\n",
        "\n",
        "    def c_px_y1(self, X):\n",
        "        \"\"\"\n",
        "        \"\"\"\n",
        "        \n",
        "        det_eps = np.linalg.det(self.eps)\n",
        "        pi = np.pi\n",
        "        X = np.matrix(X)\n",
        "        px_y1 = ( 1 / ( (2*pi)**(self.N/2) * det_eps**(1/2) ) ) \\\n",
        "              * np.exp( (-1/2)*( X-self.mu_1 ) * np.linalg.inv(self.eps) \\\n",
        "              * (X.T-self.mu_1) )  \n",
        "\n",
        "        return px_y1\n",
        "      \n",
        "    def c_py(self, y):\n",
        "      \"\"\"\n",
        "      \"\"\"\n",
        "      p_y = self.phi**(y) * (1-self.phi)**(1-y)\n",
        "      \n",
        "      return p_y\n",
        "    \n",
        "    def predict_one(self, X):\n",
        "\n",
        "      px_y0 = self.c_px_y0(X)\n",
        "      px_y1 = self.c_px_y1(X)\n",
        "      py0 = self.c_py(0)\n",
        "      py1 = self.c_py(1)\n",
        "      \n",
        "      if px_y0*py0 > px_y1*py1:\n",
        "        return 0\n",
        "      elif px_y1*py1 > px_y0*py0:\n",
        "        return 1 \n",
        "        \n",
        "    def c_phi(self, y):\n",
        "      num = 0\n",
        "        \n",
        "      for i in range(self.I):\n",
        "        if y[i] == 1:\n",
        "          num+=1\n",
        "              \n",
        "      return num/self.I\n",
        "    \n",
        "    def c_mu_0(self, X, y):\n",
        "      \n",
        "        num, denom = 0, 0\n",
        "        \n",
        "        for i in range(self.I):\n",
        "          if y[i] == 0:\n",
        "            denom += 1\n",
        "            for n in range(self.N):\n",
        "              num+=X[i, n]\n",
        "              \n",
        "        return num/denom\n",
        "      \n",
        "    def c_mu_1(self, X, y):\n",
        "        \n",
        "        num, denom = 0, 0\n",
        "        \n",
        "        for i in range(self.I):\n",
        "          if y[i] == 1:\n",
        "            denom += 1\n",
        "            for n in range(self.N):\n",
        "              num+=X[i, n]\n",
        "              \n",
        "        return num/denom\n",
        "      \n",
        "    def c_eps(self, X, y):\n",
        "        \"\"\"\n",
        "        Should return a NxN matrix \n",
        "        \"\"\"\n",
        "        num = np.matrix([[0.]*self.N]*self.N)\n",
        "        \n",
        "        for i in range(self.I):\n",
        "          \n",
        "          temp = np.matrix([0]*self.N)\n",
        "          if y[i]==0:\n",
        "            temp = np.matrix(X[i])-self.mu_0\n",
        "            num += np.dot(temp.T, temp)\n",
        "          elif y[i]==1:\n",
        "            temp = np.matrix(X[i])-self.mu_1\n",
        "            num += np.dot(temp.T, temp)\n",
        "\n",
        "        eps = num/self.I\n",
        "        \n",
        "        return eps\n",
        "    \n",
        "    \n",
        "    def fit(self, X, y):\n",
        "        \n",
        "        # define training examples and number of features\n",
        "        self.N = X.shape[1] # Here 2 features \n",
        "        self.I = X.shape[0] # Here approx. 80 training examples\n",
        "        \n",
        "        self.mu_0 = self.c_mu_0(X, y)\n",
        "        self.mu_1 = self.c_mu_1(X, y)\n",
        "        self.phi = self.c_phi(y)\n",
        "        self.eps = self.c_eps(X, y)\n",
        "        \n",
        "        print(\"MU 0 : \", self.mu_0)\n",
        "        print(\"MU 1 : \", self.mu_1)\n",
        "        print(\"Phi  : \", self.phi)\n",
        "        print(\"Epsilon : \", self.eps)\n",
        "        \n",
        "        \n",
        "    def predict(self, X, y):\n",
        "      \n",
        "      # For each test example\n",
        "      print(\"|\\tx1\\t|\\tx2\\t|\\ty\\t|\\ty_hat\\t|\\n\" +\\\n",
        "      \"-\"*65)\n",
        "      for i in range(len(X)):\n",
        "        print(\"|\\t\"+str(X[i,0])+\"\\t|\\t\"+str(X[i,1])+\"\\t|\\t\"+str(y[i])+\"\\t\" \\\n",
        "             \"|\\t\"+str(self.predict_one(X[i]))+\"\\t|\")\n",
        "        print(\"-\"*65)\n",
        "\n",
        "        self.y_hat.append(self.predict_one(X[i]))\n",
        "\n",
        "    def confusion_matrix(self, y):\n",
        "\n",
        "        true_pos, false_pos, true_neg, false_neg = 0, 0, 0, 0\n",
        "\n",
        "        for i  in range(len(y)):\n",
        "          if self.y_hat[i] == 1 and y[i]==1:\n",
        "            true_pos+=1\n",
        "          elif self.y_hat[i] == 1 and y[i]==0:\n",
        "            false_pos +=1\n",
        "          elif self.y_hat[i] == 0 and y[i] ==0:\n",
        "            true_neg+=1\n",
        "          elif self.y_hat[i] == 0 and y[i] == 1:\n",
        "            false_neg+=1\n",
        "        \n",
        "        print(\"TP: {}, FP: {}, TN: {}, FN: {}\".format(true_pos, false_pos, true_neg, false_neg))\n",
        "        \n",
        "     \n"
      ],
      "execution_count": 0,
      "outputs": []
    },
    {
      "cell_type": "code",
      "metadata": {
        "id": "qFgcniIws8ZR",
        "colab_type": "code",
        "outputId": "70ff4527-adbb-4ccd-f2da-1c7d11fd901a",
        "colab": {
          "base_uri": "https://localhost:8080/",
          "height": 106
        }
      },
      "source": [
        "model = GenerativeClassifier()\n",
        "x_train, y_train  = train_datas.drop(columns='y').values, train_datas['y'].values\n",
        "model.fit(x_train, y_train)"
      ],
      "execution_count": 57,
      "outputs": [
        {
          "output_type": "stream",
          "text": [
            "MU 0 :  8.424324324324328\n",
            "MU 1 :  8.739024390243907\n",
            "Phi  :  0.5256410256410257\n",
            "Epsilon :  [[ 9.8158098  16.92846154]\n",
            " [16.92846154 30.66239533]]\n"
          ],
          "name": "stdout"
        }
      ]
    },
    {
      "cell_type": "code",
      "metadata": {
        "id": "AXRbyiTo92Tc",
        "colab_type": "code",
        "outputId": "d18dd739-95e3-4003-ba23-59da61f2eb73",
        "colab": {
          "base_uri": "https://localhost:8080/",
          "height": 852
        }
      },
      "source": [
        "x_test, y_test  = test_datas.drop(columns='y').values, test_datas['y'].values\n",
        "model.predict(x_test, y_test)\n",
        "model.confusion_matrix(y_test)"
      ],
      "execution_count": 58,
      "outputs": [
        {
          "output_type": "stream",
          "text": [
            "|\tx1\t|\tx2\t|\ty\t|\ty_hat\t|\n",
            "-----------------------------------------------------------------\n",
            "|\t4.7\t|\t3.2\t|\t0\t|\t0\t|\n",
            "-----------------------------------------------------------------\n",
            "|\t5.0\t|\t3.4\t|\t0\t|\t0\t|\n",
            "-----------------------------------------------------------------\n",
            "|\t5.1\t|\t3.8\t|\t0\t|\t0\t|\n",
            "-----------------------------------------------------------------\n",
            "|\t5.4\t|\t3.4\t|\t0\t|\t0\t|\n",
            "-----------------------------------------------------------------\n",
            "|\t5.2\t|\t3.5\t|\t0\t|\t0\t|\n",
            "-----------------------------------------------------------------\n",
            "|\t4.7\t|\t3.2\t|\t0\t|\t0\t|\n",
            "-----------------------------------------------------------------\n",
            "|\t4.8\t|\t3.1\t|\t0\t|\t0\t|\n",
            "-----------------------------------------------------------------\n",
            "|\t5.2\t|\t4.1\t|\t0\t|\t0\t|\n",
            "-----------------------------------------------------------------\n",
            "|\t5.5\t|\t4.2\t|\t0\t|\t0\t|\n",
            "-----------------------------------------------------------------\n",
            "|\t5.5\t|\t3.5\t|\t0\t|\t0\t|\n",
            "-----------------------------------------------------------------\n",
            "|\t4.4\t|\t3.0\t|\t0\t|\t0\t|\n",
            "-----------------------------------------------------------------\n",
            "|\t4.8\t|\t3.0\t|\t0\t|\t0\t|\n",
            "-----------------------------------------------------------------\n",
            "|\t4.6\t|\t3.2\t|\t0\t|\t0\t|\n",
            "-----------------------------------------------------------------\n",
            "|\t5.2\t|\t2.7\t|\t1\t|\t1\t|\n",
            "-----------------------------------------------------------------\n",
            "|\t5.8\t|\t2.7\t|\t1\t|\t1\t|\n",
            "-----------------------------------------------------------------\n",
            "|\t6.2\t|\t2.2\t|\t1\t|\t1\t|\n",
            "-----------------------------------------------------------------\n",
            "|\t5.9\t|\t3.2\t|\t1\t|\t1\t|\n",
            "-----------------------------------------------------------------\n",
            "|\t6.4\t|\t2.9\t|\t1\t|\t1\t|\n",
            "-----------------------------------------------------------------\n",
            "|\t5.7\t|\t2.6\t|\t1\t|\t1\t|\n",
            "-----------------------------------------------------------------\n",
            "|\t5.5\t|\t2.4\t|\t1\t|\t1\t|\n",
            "-----------------------------------------------------------------\n",
            "|\t5.8\t|\t2.7\t|\t1\t|\t1\t|\n",
            "-----------------------------------------------------------------\n",
            "|\t6.2\t|\t2.9\t|\t1\t|\t1\t|\n",
            "-----------------------------------------------------------------\n",
            "TP: 9, FP: 0, TN: 13, FN: 0\n"
          ],
          "name": "stdout"
        }
      ]
    },
    {
      "cell_type": "markdown",
      "metadata": {
        "id": "Cl3uFDojSk9Y",
        "colab_type": "text"
      },
      "source": [
        "#### 4. Compare the results of training with the two methods."
      ]
    },
    {
      "cell_type": "code",
      "metadata": {
        "id": "9qFE2ju3Sm74",
        "colab_type": "code",
        "colab": {}
      },
      "source": [
        ""
      ],
      "execution_count": 0,
      "outputs": []
    },
    {
      "cell_type": "markdown",
      "metadata": {
        "id": "yascxDh-Snmh",
        "colab_type": "text"
      },
      "source": [
        "#### 5. Test the optimized parameters with the test data"
      ]
    },
    {
      "cell_type": "code",
      "metadata": {
        "id": "SXVTEL8TSqVy",
        "colab_type": "code",
        "colab": {}
      },
      "source": [
        ""
      ],
      "execution_count": 0,
      "outputs": []
    }
  ]
}